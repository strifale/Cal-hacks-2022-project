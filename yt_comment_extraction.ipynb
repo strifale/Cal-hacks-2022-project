{
 "cells": [
  {
   "cell_type": "code",
   "execution_count": 76,
   "metadata": {},
   "outputs": [],
   "source": [
    "from googleapiclient.discovery import build\n",
    "from dotenv import load_dotenv\n",
    "from os.path import join, dirname\n",
    "\n",
    "import os"
   ]
  },
  {
   "cell_type": "code",
   "execution_count": 77,
   "metadata": {},
   "outputs": [],
   "source": [
    "load_dotenv(\"pass.env\")\n",
    "DEVELOPER_KEY = os.getenv(\"DEVELOPER_KEY\")\n",
    "youtube = build('youtube','v3', developerKey=DEVELOPER_KEY)"
   ]
  },
  {
   "cell_type": "code",
   "execution_count": 78,
   "metadata": {},
   "outputs": [],
   "source": [
    "def return_new_video_response(video_response, vid_id, pageToken):\n",
    "    video_response=video_response.commentThreads().list(\n",
    "    part='snippet,replies', videoId=vid_id, pageToken = pageToken).execute()\n",
    "    return video_response"
   ]
  },
  {
   "cell_type": "code",
   "execution_count": null,
   "metadata": {},
   "outputs": [],
   "source": [
    "def comments_extract_all(vid_id):\n",
    "    final_total_comments = []\n",
    "    nextPageTokenStatus = True\n",
    "\n",
    "    video_response=youtube.commentThreads().list(\n",
    "    part='snippet,replies',\n",
    "    videoId=vid_id\n",
    "    ).execute()\n",
    "\n",
    "    while nextPageTokenStatus:\n",
    "        topLevelComments = video_response['items']\n",
    "        for cmt in topLevelComments:\n",
    "            final_total_comments.append(cmt)\n",
    "        if 'nextPageToken' in video_response:\n",
    "            video_response = return_new_video_response(video_response, \n",
    "            vid_id, video_response['nextPageToken'])\n",
    "        else:\n",
    "            nextPageTokenStatus = False\n",
    "            \n",
    "    return final_total_comments"
   ]
  },
  {
   "cell_type": "code",
   "execution_count": 57,
   "metadata": {},
   "outputs": [
    {
     "name": "stdout",
     "output_type": "stream",
     "text": [
      "Nice to see an epaulette mate! Don't often see those delivered by a pawn.\n",
      "+++++\n",
      "Magnus is just doing side quests now and just completed the do 3 blunders and win against a 2700+ rated players\n",
      "+++++\n",
      "What the hell is going on? I'm sure this was all just to confuse us. But to what end?\n",
      "+++++\n",
      "No matter how good magnus is ive lost all respect for him for accusing hans of cheating.  He owes hans an apology and until then i couldnt care less what the man does.\n",
      "+++++\n",
      "0:45 Hehe you apologize for nothing good AgaDmator! Thank you for your content.\n",
      "+++++\n",
      "Good stuff! I'm a Reggae and Hip-Hop beatmaker - Feel free to check out some of my beats too. One love\n",
      "+++++\n",
      "7:45 I thought queen to b6! My idea was queen b6 then rook h3 to challenge the queen then rook captures on h6 to force the trade and have your queen pinning the king with your rook coming from the back file to back it up\n",
      "+++++\n",
      "28. Bxe5\n",
      "+++++\n",
      "Hahahaha. It is so easy to point out others \"huge mistakes\" when you can use some of the best chess engines. 🙂\n",
      "+++++\n",
      "I'm so confused, doesn't the analysis starting at 7:55 prove that there actually is a good continuation for black???\n",
      "+++++\n",
      "#Suggestion\n",
      "#Magnus vs #Arjun Erigaisi game please \n",
      "Thanks in advance!\n",
      "+++++\n",
      "I like your videos, but I stopped watching this one a little over halfway through.  I don't think I like the Magnus effect at all.  He kept making terrible moves and suffered no consequences for it.  I haven't seen the ending, don't really want to at this point. This was just painful to watch, sorry.\n",
      "+++++\n",
      "I have the highest hopes for young GM Vincent Keymer. Playing Magnus is in many ways akin to trying to beat any of today's engines. Way to go Vincent, and as always, thanks Agadmator.\n",
      "Faithfully yours, \n",
      "I may sound silly, but it's not patronizing; it's genuine thanks.\n",
      "+++++\n",
      "Please, please, please, the steinitz saga\n",
      "+++++\n",
      "Why do you show this sore loser because its obvious he a sore loser and he still got no evidence hans cheated over the board to beat magnus so why you give magnus the time of day is beyond me but magnus a bum and nobody wanna watch a sore loser\n",
      "+++++\n",
      "Magnus is fucking pathetic sometimes. Doing the dumbest shit ever and at the same time kicking and screaming about Hans cheating for beating him. SMH\n",
      "+++++\n",
      "#suggestion please cover the mamadyarov giri masterpiece. It may be in the top 10 greatest games of all time.\n",
      "+++++\n",
      "IM WAITING THE SAGA\n",
      "+++++\n",
      "#suggestion Make a video ranking your favorite games of the year in December\n",
      "+++++\n",
      "Agadmator at 8:09 seems to be contradicting himself.\n",
      "+++++\n"
     ]
    }
   ],
   "source": [
    "comments_lst = []\n",
    "topLevelComments = video_response['items']\n",
    "for cmt in topLevelComments:\n",
    "    print(cmt['snippet']['topLevelComment']['snippet']['textOriginal']) #can later change to textDisplay for raw html text\n",
    "    print(\"+++++\")"
   ]
  },
  {
   "cell_type": "code",
   "execution_count": 33,
   "metadata": {},
   "outputs": [],
   "source": [
    "next_token = comments_lst"
   ]
  },
  {
   "cell_type": "code",
   "execution_count": null,
   "metadata": {},
   "outputs": [],
   "source": []
  }
 ],
 "metadata": {
  "kernelspec": {
   "display_name": "Python 3.8.13 ('nlp')",
   "language": "python",
   "name": "python3"
  },
  "language_info": {
   "codemirror_mode": {
    "name": "ipython",
    "version": 3
   },
   "file_extension": ".py",
   "mimetype": "text/x-python",
   "name": "python",
   "nbconvert_exporter": "python",
   "pygments_lexer": "ipython3",
   "version": "3.8.13"
  },
  "orig_nbformat": 4,
  "vscode": {
   "interpreter": {
    "hash": "52f1ecfc84e2e8bab6f3b861f53e2c9fb95b03a59f1d8e3738362375db08304b"
   }
  }
 },
 "nbformat": 4,
 "nbformat_minor": 2
}

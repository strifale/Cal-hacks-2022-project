{
 "cells": [
  {
   "cell_type": "code",
   "execution_count": 1,
   "metadata": {},
   "outputs": [],
   "source": [
    "from googleapiclient.discovery import build\n",
    "from dotenv import load_dotenv\n",
    "from os.path import join, dirname\n",
    "\n",
    "import os"
   ]
  },
  {
   "cell_type": "code",
   "execution_count": 64,
   "metadata": {},
   "outputs": [],
   "source": [
    "vid_id = \"9H7r-oA8aho\" #https://www.youtube.com/watch?v=9H7r-oA8aho"
   ]
  },
  {
   "cell_type": "code",
   "execution_count": 2,
   "metadata": {},
   "outputs": [],
   "source": [
    "load_dotenv(\"pass.env\")\n",
    "DEVELOPER_KEY = os.getenv(\"DEVELOPER_KEY\")\n",
    "youtube = build('youtube','v3', developerKey=DEVELOPER_KEY)"
   ]
  },
  {
   "cell_type": "code",
   "execution_count": 35,
   "metadata": {},
   "outputs": [],
   "source": [
    "def return_new_video_response(video_response, vid_id, pageToken):\n",
    "    video_response=video_response.commentThreads().list(\n",
    "    part='snippet,replies', videoId=vid_id, pageToken = pageToken).execute()\n",
    "    return video_response"
   ]
  },
  {
   "cell_type": "code",
   "execution_count": 36,
   "metadata": {},
   "outputs": [],
   "source": [
    "return_yt = return_new_video_response(youtube, vid_id, None)"
   ]
  },
  {
   "cell_type": "code",
   "execution_count": 70,
   "metadata": {},
   "outputs": [
    {
     "name": "stdout",
     "output_type": "stream",
     "text": [
      "@Zac The Gamer No,you did by falsely claiming woes in Australia were directly the fault of the current govt and clearly,they aren't.\n",
      "@PandemicOfTheUnvaccinated You started it. I never mentioned global issues and on top, never answered my question while I did yours. You're the one beating around the bush and not me. How so it is more prevalent for Australia and how Scomo did anything wrong under those circumstances?\n",
      "@Zac The Gamer Global issues have more an impact on Australia rather than vice versa.You're merely using diversion tactics to avoid meaningful debate.\n",
      "@PandemicOfTheUnvaccinated Nope, I was talking about Australia while you went for global issues. I pointed out how we are doing worse than other similar countries but now you're again deflecting reality. Good on ya!\n"
     ]
    }
   ],
   "source": [
    "# tlc  = return_yt['items']\n",
    "# for x in tlc:\n",
    "#     if x['snippet']['topLevelComment']['snippet']['textOriginal'] == \"The current PM is useless. Everything is going south under him.\":\n",
    "#         for reply in x['replies']['comments']:\n",
    "#             print(reply['snippet']['textOriginal'])\n",
    "#         with open(\"output_examples_single.json\", \"w\") as output:\n",
    "#             output.write(str(x))"
   ]
  },
  {
   "cell_type": "code",
   "execution_count": 73,
   "metadata": {},
   "outputs": [],
   "source": [
    "def comments_extract_all(vid_id):\n",
    "    final_total_comments = []\n",
    "    nextPageTokenStatus = True\n",
    "\n",
    "    video_response=youtube.commentThreads().list(\n",
    "    part='snippet,replies',\n",
    "    videoId=vid_id\n",
    "    ).execute()\n",
    "\n",
    "    while nextPageTokenStatus:\n",
    "        allLevelComments = video_response['items']\n",
    "        for cmt in allLevelComments:\n",
    "            final_total_comments.append(cmt['snippet']['topLevelComment']['snippet']['textOriginal'])\n",
    "            if cmt['snippet']['totalReplyCount'] > 0:\n",
    "                for reply in cmt['replies']['comments']:\n",
    "                    final_total_comments.append(reply['snippet']['textOriginal'])\n",
    "        if 'nextPageToken' in video_response:\n",
    "            video_response = return_new_video_response(video_response, \n",
    "            vid_id, video_response['nextPageToken'])\n",
    "        else:\n",
    "            nextPageTokenStatus = False\n",
    "            \n",
    "    return final_total_comments"
   ]
  },
  {
   "cell_type": "code",
   "execution_count": 74,
   "metadata": {},
   "outputs": [
    {
     "data": {
      "text/plain": [
       "['Better to keep secret the number of abortions performed each month and the number of assisted suicides, and transgender operations',\n",
       " 'Mind Begs the Question:\\nHitler = Govts can be Sinister & Terrorists\\nGovt - if given overwhelming control over people\\nSecure System,Flawed System?',\n",
       " 'Al Jazeera should recommend Qatar type ruler.  Only one ruler.  Everyone should be yes men.',\n",
       " 'A corrupt politician? How can that be? 🤣',\n",
       " 'Fascism',\n",
       " 'thought this was going to be about him being able to fly or read minds. just the a corrupt politician.',\n",
       " 'The current PM is useless. Everything is going south under him.',\n",
       " \"@Zac The Gamer No,you did by falsely claiming woes in Australia were directly the fault of the current govt and clearly,they aren't.\",\n",
       " \"@PandemicOfTheUnvaccinated You started it. I never mentioned global issues and on top, never answered my question while I did yours. You're the one beating around the bush and not me. How so it is more prevalent for Australia and how Scomo did anything wrong under those circumstances?\",\n",
       " \"@Zac The Gamer Global issues have more an impact on Australia rather than vice versa.You're merely using diversion tactics to avoid meaningful debate.\",\n",
       " \"@PandemicOfTheUnvaccinated Nope, I was talking about Australia while you went for global issues. I pointed out how we are doing worse than other similar countries but now you're again deflecting reality. Good on ya!\",\n",
       " \"No surprise, they locked their citizens up in homes for 2 years I'm shocked anyone is surprised here. This is what happens when citizens give up their guns.\",\n",
       " '\"Never go full Scomo\" is a great song',\n",
       " 'Democrazy ..',\n",
       " 'Lock him up!',\n",
       " 'Agree so that we can trust the police lock him in..',\n",
       " 'I envy Australian Gov, Korean Gov are extremely forgiving to corruption and treason',\n",
       " '...In times of War...']"
      ]
     },
     "execution_count": 74,
     "metadata": {},
     "output_type": "execute_result"
    }
   ],
   "source": [
    "comments_extract_all(vid_id)"
   ]
  },
  {
   "cell_type": "code",
   "execution_count": 75,
   "metadata": {},
   "outputs": [],
   "source": [
    "all_comments = comments_extract_all(vid_id)\n",
    "with open(\"output_examples.txt\", \"w\") as output:\n",
    "    for comment in all_comments:\n",
    "        output.write('||start||\\n' + str(comment) + '\\n||end||\\n')"
   ]
  },
  {
   "cell_type": "code",
   "execution_count": null,
   "metadata": {},
   "outputs": [],
   "source": []
  }
 ],
 "metadata": {
  "kernelspec": {
   "display_name": "Python 3.8.13 ('nlp')",
   "language": "python",
   "name": "python3"
  },
  "language_info": {
   "codemirror_mode": {
    "name": "ipython",
    "version": 3
   },
   "file_extension": ".py",
   "mimetype": "text/x-python",
   "name": "python",
   "nbconvert_exporter": "python",
   "pygments_lexer": "ipython3",
   "version": "3.8.13"
  },
  "orig_nbformat": 4,
  "vscode": {
   "interpreter": {
    "hash": "52f1ecfc84e2e8bab6f3b861f53e2c9fb95b03a59f1d8e3738362375db08304b"
   }
  }
 },
 "nbformat": 4,
 "nbformat_minor": 2
}
